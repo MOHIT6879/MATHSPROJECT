{
 "cells": [
  {
   "cell_type": "code",
   "execution_count": 1,
   "metadata": {},
   "outputs": [],
   "source": [
    "import pandas as pd\n",
    "import numpy as np\n",
    "import matplotlib.pyplot as plt\n",
    "# source of data: https://www.numbeo.com/pollution/rankings.jsp\n",
    "dataset=pd.read_csv(r'C:\\Users\\cody\\Downloads\\ai\\World (1).csv')\n",
    "X = dataset['Pollution_Expectation'].values\n",
    "Y = dataset['Pollution_Index'].values\n",
    "A = dataset['Rank'].values"
   ]
  },
  {
   "cell_type": "code",
   "execution_count": 6,
   "metadata": {},
   "outputs": [
    {
     "name": "stderr",
     "output_type": "stream",
     "text": [
      "C:\\Users\\cody\\anaconda3\\lib\\site-packages\\numpy\\lib\\histograms.py:905: RuntimeWarning: invalid value encountered in true_divide\n",
      "  return n/db/n.sum(), bin_edges\n"
     ]
    },
    {
     "data": {
      "image/png": "[encoded data removed]",
      "text/plain": [
       "<Figure size 432x288 with 1 Axes>"
      ]
     },
     "metadata": {
      "needs_background": "light"
     },
     "output_type": "display_data"
    }
   ],
   "source": [
    "import scipy.stats as st   # Python library used for scientific computing and technical computing\n",
    "\n",
    "plt.hist(A[-1::-1], Y[-1::-1], density=True, color='red', label='Index') \n",
    "mn, mx = plt.xlim()  # return the current xlim\n",
    "plt.xlim(mn, mx)     # set the xlim to left, right\n",
    "kde_xs = np.linspace(mn, mx, 50)   # creating numeric sequences\n",
    "kde = st.gaussian_kde(X)\n",
    "plt.plot(X[-1::-1], kde.pdf(X[-1::-1]), label='Expectation', color='blue')\n",
    "plt.legend(loc=\"upper left\")\n",
    "plt.ylabel(\"Pollution Index of the City\")\n",
    "plt.xlabel(\"Rank of City\")\n",
    "plt.title(\"Pollution data representation\");\n"
   ]
  },
  {
   "cell_type": "code",
   "execution_count": 2,
   "metadata": {},
   "outputs": [],
   "source": [
    "import pandas as pd\n",
    "world=pd.read_csv(r'C:\\Users\\cody\\Downloads\\ai\\World (1).csv')\n",
    "y = (world.Pollution_Index)\n",
    "X = world.drop(['Pollution_Index','City','Rank'],axis=1)"
   ]
  },
  {
   "cell_type": "code",
   "execution_count": 6,
   "metadata": {},
   "outputs": [
    {
     "name": "stdout",
     "output_type": "stream",
     "text": [
      "Coefficients: \n",
      " [0.53207946]\n",
      "Mean squared error: 0.34\n",
      "Coefficient of determination: 0.90\n"
     ]
    },
    {
     "data": {
      "image/png": "[encoded data removed]",
      "text/plain": [
       "<Figure size 432x288 with 1 Axes>"
      ]
     },
     "metadata": {},
     "output_type": "display_data"
    }
   ],
   "source": [
    "import matplotlib.pyplot as plt\n",
    "import numpy as np\n",
    "from sklearn import datasets, linear_model\n",
    "from sklearn.metrics import mean_squared_error, r2_score\n",
    "\n",
    "y = (world.Pollution_Index)\n",
    "X = world.drop(['Pollution_Index','City','Rank'],axis=1)\n",
    "\n",
    "# Split the data into training/testing sets\n",
    "X_train = X[20:]\n",
    "X_test = X[:20]\n",
    "\n",
    "# Split the targets into training/testing sets\n",
    "y_train = y[20:]\n",
    "y_test = y[:20]\n",
    "\n",
    "# Create linear regression object\n",
    "regr = linear_model.LinearRegression()\n",
    "# Train the model using the training sets\n",
    "regr.fit(X_train, y_train)\n",
    "\n",
    "# Make predictions using the testing set\n",
    "y_pred = regr.predict(X_test)\n",
    "\n",
    "# The coefficients\n",
    "print(\"Coefficients: \\n\", regr.coef_)\n",
    "# The mean squared error\n",
    "print(\"Mean squared error: %.2f\" % mean_squared_error(y_test, y_pred))\n",
    "# The coefficient of determination: 1 is perfect prediction\n",
    "print(\"Coefficient of determination: %.2f\" % r2_score(y_test, y_pred))\n",
    "\n",
    "# Plot outputs\n",
    "plt.scatter(X_test, y_test, alpha=0.75, color=\"black\")\n",
    "plt.plot(X_test, y_pred, color=\"blue\", linewidth=3)\n",
    "\n",
    "plt.xticks(())\n",
    "plt.yticks(())\n",
    "\n",
    "plt.show()"
   ]
  }
 ],
 "metadata": {
  "kernelspec": {
   "display_name": "Python 3",
   "language": "python",
   "name": "python3"
  },
  "language_info": {
   "codemirror_mode": {
    "name": "ipython",
    "version": 3
   },
   "file_extension": ".py",
   "mimetype": "text/x-python",
   "name": "python",
   "nbconvert_exporter": "python",
   "pygments_lexer": "ipython3",
   "version": "3.8.8"
  }
 },
 "nbformat": 4,
 "nbformat_minor": 4
}
